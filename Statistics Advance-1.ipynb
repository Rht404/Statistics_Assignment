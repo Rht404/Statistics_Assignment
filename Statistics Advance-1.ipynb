{
 "cells": [
  {
   "cell_type": "markdown",
   "id": "59abf54d-836e-421c-986a-cbdbadb7770c",
   "metadata": {},
   "source": [
    "### Q1. What is the Probability density function?"
   ]
  },
  {
   "cell_type": "markdown",
   "id": "27417e0a-80dd-4598-ab78-111262e3d64c",
   "metadata": {},
   "source": [
    "Ans:-The Probability Density Function (PDF) is a function used in statistics to describe the likelihood of a continuous random variable taking on a specific value. For a continuous random variable X, the PDF f(x) gives the relative likelihood of X being at a particular point 𝑥.The area under the PDF curve over a range represents the probability of the random variable falling within that range. The total area under the PDF curve is 1."
   ]
  },
  {
   "cell_type": "markdown",
   "id": "e1378d00-1ffd-48f2-aea5-296429938681",
   "metadata": {},
   "source": [
    "### Q2. What are the types of Probability distribution?"
   ]
  },
  {
   "cell_type": "markdown",
   "id": "e6726e2d-ea7f-4ed2-8a11-3cc6cdbeba41",
   "metadata": {},
   "source": [
    "Probability distributions can be broadly categorized into:\n",
    "\n",
    "1) Discrete Probability Distributions: These describe the probabilities of discrete random variables (e.g., binomial distribution, Poisson distribution).\n",
    "2) Continuous Probability Distributions: These describe the probabilities of continuous random variables (e.g., normal distribution, exponential distribution)."
   ]
  },
  {
   "cell_type": "markdown",
   "id": "810ff1b0-afff-45f8-ac33-3c2cf34ac09b",
   "metadata": {},
   "source": [
    "### Q3. Write a Python function to calculate the probability density function of a normal distribution with given mean and standard deviation at a given point."
   ]
  },
  {
   "cell_type": "code",
   "execution_count": 4,
   "id": "7b47cdfe-1cd6-43d1-9017-33bf39741dcf",
   "metadata": {},
   "outputs": [
    {
     "name": "stdout",
     "output_type": "stream",
     "text": [
      "0.05399096651318806\n"
     ]
    }
   ],
   "source": [
    "## Ans:- Python fuction to caluclate the probability density function of the normal distributon with given mean and  standard deviation\n",
    "import numpy as np\n",
    "from scipy.stats import norm\n",
    "\n",
    "def normal_pdf(x,mean,std):\n",
    "    return norm.pdf(x,mean,std)\n",
    "\n",
    "\n",
    "## Example\n",
    "x=2\n",
    "mean=0\n",
    "std=1\n",
    "value=normal_pdf(x,mean,std)\n",
    "print(value)"
   ]
  },
  {
   "cell_type": "markdown",
   "id": "576f6388-d9c3-4e81-bec6-fb8ccab26280",
   "metadata": {},
   "source": [
    "### Q4. What are the properties of Binomial distribution? Give two examples of events where binomial distribution can be applied."
   ]
  },
  {
   "cell_type": "markdown",
   "id": "d7e46898-2f78-4633-a72d-cf21aa15d5a1",
   "metadata": {},
   "source": [
    "Properties:\n",
    "\n",
    "Fixed Number of Trials: The number of trials 𝑛\n",
    "1) n is fixed.\n",
    "2) Two Possible Outcomes: Each trial results in a success or failure.\n",
    "3) Constant Probability: The probability of success 𝑝  is the same in each trial.\n",
    "4) Independent Trials: The outcome of one trial does not affect another.\n",
    "\n",
    "Examples:\n",
    "1) Flipping a fair coin 10 times and counting the number of heads.\n",
    "2) Rolling a die 6 times and counting the number of times a 3 is rolled."
   ]
  },
  {
   "cell_type": "markdown",
   "id": "f60ac2f7-d5f3-42ac-8cb0-cb6e483d5c0a",
   "metadata": {},
   "source": [
    "### Q5. Generate a random sample of size 1000 from a binomial distribution with probability of success 0.4 and plot a histogram of the results using matplotlib."
   ]
  },
  {
   "cell_type": "code",
   "execution_count": 12,
   "id": "a55d6f21-c54a-47a0-b926-ced4c9425839",
   "metadata": {},
   "outputs": [
    {
     "data": {
      "text/plain": [
       "<AxesSubplot: ylabel='Count'>"
      ]
     },
     "execution_count": 12,
     "metadata": {},
     "output_type": "execute_result"
    },
    {
     "data": {
      "image/png": "[encoded data removed]",
      "text/plain": [
       "<Figure size 640x480 with 1 Axes>"
      ]
     },
     "metadata": {},
     "output_type": "display_data"
    }
   ],
   "source": [
    "# Ans:-\n",
    "\n",
    "import  matplotlib.pyplot as plt\n",
    "import seaborn as sns\n",
    "\n",
    "size=100\n",
    "p=0.4\n",
    "n=10\n",
    "sample=np.random.binomial(n,p,size)\n",
    "\n",
    "sns.histplot(sample,kde=True)"
   ]
  },
  {
   "cell_type": "markdown",
   "id": "0ccdef16-a910-4b43-9b1d-bf3180d96c46",
   "metadata": {},
   "source": [
    "### Q6. Write a Python function to calculate the cumulative distribution function of a Poisson distribution with given mean at a given point."
   ]
  },
  {
   "cell_type": "code",
   "execution_count": 15,
   "id": "31f2537a-d00a-4cb1-9c3f-242317be0d39",
   "metadata": {},
   "outputs": [
    {
     "name": "stdout",
     "output_type": "stream",
     "text": [
      "0.2650259152973616\n"
     ]
    }
   ],
   "source": [
    "# Ans:-\n",
    "from scipy.stats import poisson\n",
    "\n",
    "def poisson_cdf(k, mean):\n",
    "    return poisson.cdf(k, mean)\n",
    "\n",
    "# Example usage\n",
    "k = 3\n",
    "mean = 5\n",
    "print(poisson_cdf(k, mean))"
   ]
  },
  {
   "cell_type": "markdown",
   "id": "72d714c0-6b3c-40a1-8b3d-81a36a441f25",
   "metadata": {},
   "source": [
    "### Q7. How Binomial distribution different from Poisson distribution?"
   ]
  },
  {
   "cell_type": "markdown",
   "id": "eccb663f-461b-4621-8498-a367cafe2a7f",
   "metadata": {},
   "source": [
    "Ans-\n",
    "\n",
    "Number of Trials:\n",
    "\n",
    "Binomial: Fixed number of trials 𝑛.\n",
    "Poisson: No fixed number of trials; models the number of events in a fixed interval.\n",
    "\n",
    "Probability of Success:\n",
    "\n",
    "Binomial: Probability of success 𝑝 in each trial.\n",
    "Poisson: Models rare events with a known average rate λ (mean).\n",
    "\n",
    "Applicability:\n",
    "Binomial: Used for a fixed number of trials.\n",
    "Poisson: Used for modeling the number of events occurring in a fixed interval of time or space."
   ]
  },
  {
   "cell_type": "markdown",
   "id": "d45c8742-4322-45fd-a54b-66298124eb6d",
   "metadata": {},
   "source": [
    "### Q8. Generate a random sample of size 1000 from a Poisson distribution with mean 5 and calculate the sample mean and variance."
   ]
  },
  {
   "cell_type": "code",
   "execution_count": 25,
   "id": "922b9bfc-23eb-4dbd-b540-c24f7f596dc8",
   "metadata": {},
   "outputs": [
    {
     "name": "stdout",
     "output_type": "stream",
     "text": [
      "mean= 4.912\n",
      "var= 5.036256000000001\n"
     ]
    }
   ],
   "source": [
    "#Ans:-\n",
    "\n",
    "from scipy.stats import poisson\n",
    "\n",
    "sample=np.random.poisson(mean,size=1000)\n",
    "\n",
    "mean=np.mean(sample)\n",
    "var=np.var(sample)\n",
    "\n",
    "print('mean=',mean)\n",
    "print('var=',var)"
   ]
  },
  {
   "cell_type": "markdown",
   "id": "2d3fbb44-cae7-4cbb-8213-481bfde6a96f",
   "metadata": {},
   "source": [
    "### Q9. How mean and variance are related in Binomial distribution and Poisson distribution?"
   ]
  },
  {
   "cell_type": "markdown",
   "id": "e6697cf8-c492-4db2-9dd2-bf3d488fb2ac",
   "metadata": {},
   "source": [
    "Ans-Binomial Distribution: mean and variance are mean=n.p and var=n.p.(1-p)\n",
    "where n=no of trails\n",
    "p=probability of success\n",
    "\n"
   ]
  },
  {
   "cell_type": "markdown",
   "id": "cb381103-bca7-4ed5-be78-4558abcfc005",
   "metadata": {},
   "source": [
    "### Q10. Least Frequent Data in Normal Distribution\n",
    "\n",
    "\n",
    "Ans:- In a normal distribution, the least frequent data appears at the extremes, far from the mean. The PDF decreases as you move further from the mean in both directions (left and right). Therefore, data points far from the mean are less frequent."
   ]
  },
  {
   "cell_type": "code",
   "execution_count": null,
   "id": "ab16de9e-9cbc-44bc-a1b2-6db2a150aa3e",
   "metadata": {},
   "outputs": [],
   "source": []
  }
 ],
 "metadata": {
  "kernelspec": {
   "display_name": "Python 3 (ipykernel)",
   "language": "python",
   "name": "python3"
  },
  "language_info": {
   "codemirror_mode": {
    "name": "ipython",
    "version": 3
   },
   "file_extension": ".py",
   "mimetype": "text/x-python",
   "name": "python",
   "nbconvert_exporter": "python",
   "pygments_lexer": "ipython3",
   "version": "3.10.8"
  }
 },
 "nbformat": 4,
 "nbformat_minor": 5
}
