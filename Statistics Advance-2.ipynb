{
 "cells": [
  {
   "cell_type": "markdown",
   "id": "be2eddde-3aa6-4b2c-99b8-5469be455f9d",
   "metadata": {},
   "source": [
    "### Q1: What are the Probability Mass Function (PMF) and Probability Density Function (PDF)? Explain with an Example."
   ]
  },
  {
   "cell_type": "markdown",
   "id": "257ecb4a-e9ab-42da-8826-98fa0095099e",
   "metadata": {},
   "source": [
    "Ans:-\n",
    "Probability Mass Function (PMF):\n",
    "The PMF is used for discrete random variables and provides the probability that a discrete random variable is exactly equal to some value. It is a function p(x) that gives the probability that a discrete random variable X is equal to some value 𝑥 i.e. p(X=x)\n",
    "\n",
    "Example: Consider rolling a fair six-sided die. The PMF would give the probability of each outcome (1, 2, 3, 4, 5, or 6), which is p(X=x)=1/6 for each x.\n",
    "\n",
    "Probability Density Function (PDF):\n",
    "\n",
    "The PDF is used for continuous random variables and describes the likelihood of the variable taking on a specific value. Unlike the PMF, the PDF does not give probabilities directly but rather the relative likelihood; probabilities are found by integrating the PDF over an interval.\n",
    "\n",
    "Example: The height of adults can be modeled using a normal distribution. The PDF of this normal distribution gives the relative likelihood of an individual being of a specific height. For example, the height of a randomly selected person might have a PDF value, which gives the relative likelihood of observing that specific height."
   ]
  },
  {
   "cell_type": "markdown",
   "id": "539395ac-3527-46b2-848d-dcafa8eea1b4",
   "metadata": {},
   "source": [
    "### Q2: What is the Cumulative Density Function (CDF)? Explain with an Example. Why is the CDF Used?"
   ]
  },
  {
   "cell_type": "markdown",
   "id": "5c91692c-885f-4401-bf25-48354b2e9170",
   "metadata": {},
   "source": [
    "Ans:-\n",
    "Cumulative Distribution Function (CDF):\n",
    "The CDF gives the probability that a random variable X takes on a value less than or equal to x. For a random variable \n",
    "X, the CDF is defined as: F(x)=P(X≤x)\n",
    "\n",
    "Example: Suppose you have a fair six-sided die, and you want to know the probability that you roll a number less than or equal to 3. The CDF at x=3 would be F(3)=P(X≤3)=3/6=0.5\n",
    "\n",
    "Why is CDF Used?\n",
    "\n",
    "The CDF is useful because it provides a complete description of the probability distribution of a random variable. It is especially useful for calculating probabilities over intervals and for comparing distributions."
   ]
  },
  {
   "cell_type": "markdown",
   "id": "d22d5507-cc04-481a-b2ea-1e95d34e4862",
   "metadata": {},
   "source": [
    "### Q3: What are Some Examples of Situations Where the Normal Distribution Might Be Used as a Model? Explain How the Parameters of the Normal Distribution Relate to the Shape of the Distribution."
   ]
  },
  {
   "cell_type": "markdown",
   "id": "0f7a4e47-fb37-42b0-b7d8-103f9546b243",
   "metadata": {},
   "source": [
    "Ans:-\n",
    "Examples of Situations:\n",
    "\n",
    "Human Heights: Heights of adults are often normally distributed.\n",
    "Test Scores: Scores on standardized tests like the SAT are often modeled as a normal distribution.\n",
    "Measurement Errors: Random measurement errors in scientific experiments are often assumed to be normally distributed.\n",
    "\n",
    "Parameters and Shape:\n",
    "\n",
    "Mean (μ): The mean determines the center of the distribution. It is the point of symmetry where the highest peak occurs.\n",
    "\n",
    "Standard Deviation (σ): The standard deviation controls the spread or width of the distribution. A larger σ means the data is more spread out,σ means the data is more concentrated around the mean."
   ]
  },
  {
   "cell_type": "markdown",
   "id": "32cf13fc-3ea8-4fe3-989d-874a51f74c59",
   "metadata": {},
   "source": [
    "### Q4: Importance of Normal Distribution and Real-Life Examples"
   ]
  },
  {
   "cell_type": "markdown",
   "id": "049bdaf8-1562-4a3c-8791-95d762c635ac",
   "metadata": {},
   "source": [
    "Ans:-\n",
    "\n",
    "Importance of Normal Distribution:\n",
    "The normal distribution is crucial in statistics because it models many natural phenomena and is the basis for various statistical methods. It's also used in the Central Limit Theorem, which states that the sum of many independent and identically distributed random variables tends to follow a normal distribution, regardless of the original distribution.\n",
    "\n",
    "Real-Life Examples:\n",
    "\n",
    "IQ Scores: IQ scores are often modeled as a normal distribution with a mean of 100 and a standard deviation of 15.\n",
    "\n",
    "Errors in Measurements: Instrument measurement errors are typically normally distributed.\n",
    "\n",
    "Stock Market Returns: Daily returns of a stock or market index often approximate a normal distribution."
   ]
  },
  {
   "cell_type": "markdown",
   "id": "45ccff61-a7ad-4bd3-9ee5-16686cb8ea5e",
   "metadata": {},
   "source": [
    "### Q5: What is Bernoulli Distribution? Give an Example. What is the Difference Between Bernoulli Distribution and Binomial Distribution?Bernoulli Distribution:"
   ]
  },
  {
   "cell_type": "markdown",
   "id": "5ef3065f-6d89-444d-aae1-2db278d93115",
   "metadata": {},
   "source": [
    "Ans:-\n",
    "The Bernoulli distribution is the simplest discrete distribution and models a random variable with only two possible outcomes, usually labeled as \"success\" (1) and \"failure\" (0), with a single trial. The probability of success is p, and the probability of failure is 1−p.\n",
    "\n",
    "Example: Flipping a coin where \"heads\" is considered a success and \"tails\" is a failure.\n",
    "\n",
    "Difference Between Bernoulli and Binomial Distribution:\n",
    "\n",
    "Bernoulli Distribution: Deals with a single trial.\n",
    "Binomial Distribution: Models the number of successes in n independent Bernoulli trials, each with the same probability of success 𝑝."
   ]
  },
  {
   "cell_type": "markdown",
   "id": "4221f9d2-c03f-4b38-8d96-226ad411dc2b",
   "metadata": {},
   "source": [
    "### Q6: Probability of Observing a Value Greater Than 60 in a Normal Distribution with Mean 50 and Standard Deviation 10"
   ]
  },
  {
   "cell_type": "markdown",
   "id": "3633ccca-e2c1-4590-97a5-33d53eccccbf",
   "metadata": {},
   "source": [
    "Ans:-\n",
    "To find this probability, you can use the Z-score formula: 𝑍=𝑋−𝜇/𝜎\n",
    " \n",
    "For X=60, μ=50, and σ=10: 𝑍=(60-50)/10=1\n",
    "\n",
    "Using the Z-table, the probability corresponding to Z=1 is approximately 0.8413. So, the probability of observing a value greater than 60 is: P(X>60)=1-P(X<=60)=1-0.8413=0.187.\n",
    "\n",
    "So, the probability is approximately 0.1587 or 15.87%."
   ]
  },
  {
   "cell_type": "markdown",
   "id": "1966cd99-6bcf-497c-b78f-bfbb08cf6ef1",
   "metadata": {},
   "source": [
    "### Q7: Explain Uniform Distribution with an Example"
   ]
  },
  {
   "cell_type": "markdown",
   "id": "0994ca53-7e43-4e84-b274-33984821d3c0",
   "metadata": {},
   "source": [
    "Ans:-\n",
    "\n",
    "Uniform Distribution:\n",
    "A uniform distribution describes an equal likelihood of outcomes within a specific range. If X is uniformly distributed over the interval [a,b], then the probability density function is:\n",
    "\n",
    "f(x)=1/(b-a)   for a≤x≤b\n",
    "\n",
    "Example: Rolling a fair die has a uniform distribution over the integers 1 through 6, where each outcome has an equal probability of 1/6"
   ]
  },
  {
   "cell_type": "markdown",
   "id": "23f2cfca-6f3d-4e6c-bc23-99b99ec389cd",
   "metadata": {},
   "source": [
    "### Q8: What is the Z-Score? State the Importance of the Z-Score."
   ]
  },
  {
   "cell_type": "markdown",
   "id": "be06b343-ab5a-4a9f-860e-28f8b5316b19",
   "metadata": {},
   "source": [
    "Ans:-\n",
    "\n",
    "Z-Score:\n",
    "A Z-score represents the number of standard deviations a data point is from the mean of a distribution. The formula is:\n",
    "\n",
    "𝑍=𝑋−𝜇/𝜎\n",
    "\n",
    "Importance:\n",
    "- Standardization: Z-scores allow for the comparison of data from different distributions.\n",
    "- Probability Calculation: Z-scores are used to find probabilities and percentiles for normally distributed data.\n",
    "- Outlier Detection: Z-scores help in identifying outliers, as values with a high magnitude (positive or negative) are considered unusual."
   ]
  },
  {
   "cell_type": "markdown",
   "id": "23178c67-a1d0-4329-b44d-374cea4d5246",
   "metadata": {},
   "source": [
    "### Q9: What is the Central Limit Theorem? State the Significance of the Central Limit Theorem."
   ]
  },
  {
   "cell_type": "markdown",
   "id": "4947a3a2-8c05-4ab9-b599-32a0d07273ab",
   "metadata": {},
   "source": [
    "Ans:-\n",
    "\n",
    "Central Limit Theorem (CLT):\n",
    "The CLT states that the distribution of the sum (or average) of a large number of independent, identically distributed (i.i.d.) random variables approaches a normal distribution, regardless of the shape of the original distribution, provided the sample size is sufficiently large.\n",
    "\n",
    "- Significance:\n",
    "  - Normal Approximation: It allows the use of normal distribution to approximate the distribution of sample means, even when the population distribution is not normal.\n",
    "  - Basis for Inferential Statistics: The CLT is foundational in many statistical procedures, such as hypothesis testing and confidence intervals."
   ]
  },
  {
   "cell_type": "markdown",
   "id": "d6d11e7b-c66b-4589-b711-a28ecdaafa9c",
   "metadata": {},
   "source": [
    "### Q10: Assumptions of the Central Limit Theorem"
   ]
  },
  {
   "cell_type": "markdown",
   "id": "523ec6cf-d0ee-4f59-a304-f3f8ed05270b",
   "metadata": {},
   "source": [
    "Ans:-\n",
    "\n",
    "1) Independence: The sampled observations must be independent of each other.\n",
    "2) Identically Distributed: The sampled observations should be identically distributed, meaning each sample is drawn from the same population with the same probability distribution.\n",
    "3) Sample Size: The sample size should be sufficiently large. While there is no strict rule, a common guideline is that a sample size of 30 or more is generally sufficient, especially if the underlying population distribution is not highly skewed."
   ]
  },
  {
   "cell_type": "code",
   "execution_count": null,
   "id": "e2c63fdc-ac12-4014-9fcf-6d24409265d6",
   "metadata": {},
   "outputs": [],
   "source": []
  }
 ],
 "metadata": {
  "kernelspec": {
   "display_name": "Python 3 (ipykernel)",
   "language": "python",
   "name": "python3"
  },
  "language_info": {
   "codemirror_mode": {
    "name": "ipython",
    "version": 3
   },
   "file_extension": ".py",
   "mimetype": "text/x-python",
   "name": "python",
   "nbconvert_exporter": "python",
   "pygments_lexer": "ipython3",
   "version": "3.10.8"
  }
 },
 "nbformat": 4,
 "nbformat_minor": 5
}
